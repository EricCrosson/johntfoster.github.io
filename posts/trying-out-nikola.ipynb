{
 "metadata": {
  "name": "",
  "signature": "sha256:c444327e5af4c37edc3f44faf4d2443c060d543355033d58cbc2bcd2bd4cb473"
 },
 "nbformat": 3,
 "nbformat_minor": 0,
 "worksheets": [
  {
   "cells": [
    {
     "cell_type": "markdown",
     "metadata": {},
     "source": [
      "So this is my first post.  I will not write too much, only a test of this cool static blog generator Nikola.  An update with at [link](http://www.github.com/johntfoster/) for debugging purposes."
     ]
    }
   ],
   "metadata": {}
  }
 ]
}